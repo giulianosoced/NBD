{
 "cells": [
  {
   "cell_type": "code",
   "execution_count": 115,
   "metadata": {},
   "outputs": [],
   "source": [
    "import numpy as np\n",
    "runif=np.random.uniform\n",
    "from scipy.special import gamma\n",
    "import time\n",
    "from collections import deque"
   ]
  },
  {
   "cell_type": "markdown",
   "metadata": {},
   "source": [
    "i copied the professor matlab code into python.\n",
    "\n",
    "\n",
    "This generates the arrivals time and the service times"
   ]
  },
  {
   "cell_type": "code",
   "execution_count": 132,
   "metadata": {},
   "outputs": [],
   "source": [
    "###here i just write in python the matlab script from the prof\n",
    "\n",
    "ntry=10\n",
    "n=100000\n",
    "mTv=[]\n",
    "ratioTv=[]\n",
    "mXv=[]\n",
    "ratioXv=[]\n",
    "telapsedv=[]\n",
    "rhosimv=[]\n",
    "for i in range(ntry):\n",
    "    #start timer\n",
    "    start=time.time()\n",
    "    \n",
    "    #arrival time\n",
    "    T0=1\n",
    "    #average Y\n",
    "    Ymed=10\n",
    "    #prob q\n",
    "    q=3/5\n",
    "    #average time arrival\n",
    "    ET=T0+(1-q)*Ymed\n",
    "    #variance of time arrival\n",
    "    ET2=T0**2+(1-q)*(2*Ymed**2+2*T0*Ymed)\n",
    "    #\n",
    "    CT=np.sqrt(ET2-ET**2)/ET\n",
    "    #random vector\n",
    "    v=np.round(q-runif(0,1,n))\n",
    "    #vector of generated arrival times\n",
    "    Tv=T0-(1-v)*np.log(runif(0,1,n))*Ymed\n",
    "    #its mean\n",
    "    mT=np.mean(Tv)\n",
    "    #its std\n",
    "    sT=np.std(Tv)\n",
    "    # std over mean\n",
    "    cT = sT/mT\n",
    "    #confidence interval of T\n",
    "    ICT = 1.96*sT/np.sqrt(n)\n",
    "    # compute ratio\n",
    "    ratioT=ICT/mT\n",
    "    # save to the vector\n",
    "    mTv.append(mT)\n",
    "    # save to the vector\n",
    "    ratioTv.append(ratioT)\n",
    "\n",
    "    #processing time expected value\n",
    "    EX=99\n",
    "    #weibull distro parameters\n",
    "    alfa=1/2\n",
    "    beta=EX/gamma(1+1/alfa)\n",
    "    EX2=beta**2*gamma(1+2/alfa)\n",
    "    CX=np.sqrt(EX2-EX**2)/EX\n",
    "    #generate vector of processing time \n",
    "    Xv=np.maximum(1,np.minimum(100*EX, np.round(beta*(-np.log(runif(0,1,n)))**(1/alfa))))\n",
    "    #compute metrics on the processing times\n",
    "    mX=np.mean(Xv)\n",
    "    sX=np.std(Xv)\n",
    "    cX=sX/mX\n",
    "    ICX=1.96*sX/np.sqrt(n)\n",
    "    ratioX=ICX/mX\n",
    "    mXv.append(mX)\n",
    "    ratioXv.append(ratioX)\n",
    "    \n",
    "    #utilization coeff\n",
    "    \n",
    "    #N server\n",
    "    Nse=20\n",
    "    rho=EX/(Nse*ET)\n",
    "    rhosim=mX/Nse/mT\n",
    "    rhosimv.append(rhosim)\n",
    "    \n",
    "    end = time.time()\n",
    "    telapsed= end - start\n",
    "    telapsedv.append(telapsed)\n",
    "    \n",
    "# print(f'estimated average inter arrival time are \\n{mTv}\\n')\n",
    "# print(f'ratio of 95% CI to estimated average of interarrival times are \\n{ratioTv}\\n')\n",
    "# print(f'estimated average service time are \\n{mXv}\\n')\n",
    "# print(f'ratio of 95% CI of estimated average of service time \\n{ratioXv}\\n')\n",
    "# print(f'estimated utilization coefficient \\n{rhosimv}\\n')\n",
    "# print('')\n",
    "# print(f'average computation time {1000*np.mean(telapsedv)} ms')"
   ]
  },
  {
   "cell_type": "markdown",
   "metadata": {},
   "source": [
    "with the generated times i run a POD"
   ]
  },
  {
   "cell_type": "code",
   "execution_count": 136,
   "metadata": {},
   "outputs": [
    {
     "name": "stdout",
     "output_type": "stream",
     "text": [
      "we are at time 9.97739198285275\n",
      "we are at time 19.970540342328015\n",
      "we are at time 29.955798168407295\n",
      "we are at time 39.98576411815362\n",
      "we are at time 49.973623835517685\n",
      "we are at time 60.01826914956663\n",
      "we are at time 70.0491626210309\n",
      "we are at time 80.0208349367975\n",
      "we are at time 90.05214482608605\n",
      "we are at time 100.08871916217406\n"
     ]
    }
   ],
   "source": [
    "#N servers\n",
    "N=20\n",
    "#start with empty server\n",
    "server= [deque() for i in range(N)]\n",
    "#memory to know how many task in queue for each server\n",
    "memory= [0]*N\n",
    "#arrival times of tasks (as cumulative sum of arrival times)\n",
    "task_arrival=np.cumsum(mTv)\n",
    "#service times\n",
    "service_times=mXv\n",
    "#POD parameter\n",
    "d=3\n",
    "\n",
    "for time, serviceT in zip(task_arrival, service_times):\n",
    "    print(f'we are at time {time}')\n",
    "    \n",
    "    #check if at time=time there are task that are done,\n",
    "    #if they are done, delete them from the queue\n",
    "    for i in range(len(server)):\n",
    "        try:\n",
    "            if server[i][0]<time:\n",
    "                server[i].popleft()\n",
    "        except:\n",
    "            continue\n",
    "    \n",
    "    #POD, select 3 servers and check how many task in queue\n",
    "    for i in range(d):\n",
    "        rnd_server=np.random.choice(list(range(N)))  \n",
    "        memory[rnd_server]=len(server[rnd_server]) \n",
    "        \n",
    "    #save minimun length value\n",
    "    min_value = min(memory)\n",
    "    #save the index of the server with minimum length queue\n",
    "    to_choose=[i for i, x in enumerate(memory) if x == min_value]\n",
    "    #select randomly over server with queue with min len over the d sever extracted\n",
    "    selected_server=np.random.choice(to_choose)\n",
    "    \n",
    "    #update server, with new task saved as with time T the task will be over (current time+service time)\n",
    "    server[selected_server].append(serviceT+time)\n",
    "    #update memory\n",
    "    memory[selected_server]+=1\n"
   ]
  },
  {
   "cell_type": "markdown",
   "metadata": {},
   "source": [
    "This is the state of the servers at the end of the simulation.\n",
    "\n",
    "each servers has a queue of task, each task of the queue has the time at which it will be over "
   ]
  },
  {
   "cell_type": "code",
   "execution_count": 137,
   "metadata": {},
   "outputs": [
    {
     "data": {
      "text/plain": [
       "[deque([120.192510342328]),\n",
       " deque([159.23333914956663]),\n",
       " deque([]),\n",
       " deque([149.2821938355177]),\n",
       " deque([]),\n",
       " deque([139.2814341181536]),\n",
       " deque([188.37315482608605]),\n",
       " deque([]),\n",
       " deque([]),\n",
       " deque([]),\n",
       " deque([198.06724916217405]),\n",
       " deque([]),\n",
       " deque([]),\n",
       " deque([170.5045226210309]),\n",
       " deque([]),\n",
       " deque([]),\n",
       " deque([129.3675381684073]),\n",
       " deque([108.98114198285275]),\n",
       " deque([180.3613249367975]),\n",
       " deque([])]"
      ]
     },
     "execution_count": 137,
     "metadata": {},
     "output_type": "execute_result"
    }
   ],
   "source": [
    "server"
   ]
  },
  {
   "cell_type": "markdown",
   "metadata": {},
   "source": [
    "The memory keeps track of the length of the queues"
   ]
  },
  {
   "cell_type": "code",
   "execution_count": 138,
   "metadata": {},
   "outputs": [
    {
     "data": {
      "text/plain": [
       "[1, 1, 0, 1, 0, 1, 1, 0, 0, 0, 1, 0, 0, 1, 0, 0, 1, 1, 1, 0]"
      ]
     },
     "execution_count": 138,
     "metadata": {},
     "output_type": "execute_result"
    }
   ],
   "source": [
    "memory"
   ]
  },
  {
   "cell_type": "code",
   "execution_count": null,
   "metadata": {},
   "outputs": [],
   "source": []
  },
  {
   "cell_type": "code",
   "execution_count": null,
   "metadata": {},
   "outputs": [],
   "source": []
  },
  {
   "cell_type": "markdown",
   "metadata": {},
   "source": [
    "### just notes and garbage, you can ignore this"
   ]
  },
  {
   "cell_type": "code",
   "execution_count": 20,
   "metadata": {},
   "outputs": [],
   "source": [
    "#this is the function of the pod\n",
    "def POD(d,N,server):\n",
    "    #i assume that we start not knowing the queue in all server\n",
    "    memory=[0]*N\n",
    "    #here i choose d random servers and save their queue to the memory\n",
    "    for i in range(d):\n",
    "        #choice a server randomly over a list of N\n",
    "        rnd_server=random.choice(list(range(N)))\n",
    "        #save it's queue length to memory\n",
    "        memory[rnd_server]=server[rnd_server]\n",
    "    #save minimun length value\n",
    "    min_value = min(memory)\n",
    "    #save the index of the server with minimum length queue\n",
    "    to_choose=[i for i, x in enumerate(memory) if x == min_value]\n",
    "    #select randomly over server with queue with min len over the d sever extracted\n",
    "    selected_server=random.choice(to_choose)\n",
    "    #update memory, now that the chosen server has 1 more user in queue\n",
    "    memory[selected_server]+=1\n",
    "    return selected_server"
   ]
  }
 ],
 "metadata": {
  "kernelspec": {
   "display_name": "Python 3",
   "language": "python",
   "name": "python3"
  },
  "language_info": {
   "codemirror_mode": {
    "name": "ipython",
    "version": 3
   },
   "file_extension": ".py",
   "mimetype": "text/x-python",
   "name": "python",
   "nbconvert_exporter": "python",
   "pygments_lexer": "ipython3",
   "version": "3.7.4"
  }
 },
 "nbformat": 4,
 "nbformat_minor": 2
}
