{
 "cells": [
  {
   "cell_type": "code",
   "execution_count": 1,
   "metadata": {},
   "outputs": [],
   "source": [
    "import numpy as np\n",
    "runif=np.random.uniform\n",
    "from scipy.special import gamma\n",
    "import time as Time\n",
    "from collections import deque\n",
    "import matplotlib.pyplot as plt\n",
    "import random"
   ]
  },
  {
   "cell_type": "markdown",
   "metadata": {},
   "source": [
    "# Definition of the function"
   ]
  },
  {
   "cell_type": "markdown",
   "metadata": {},
   "source": [
    "## POD"
   ]
  },
  {
   "cell_type": "code",
   "execution_count": 2,
   "metadata": {},
   "outputs": [],
   "source": [
    "def POD(task_arrival, service_times, N=20, d=3):\n",
    "    #start with empty server\n",
    "    server= [deque() for i in range(N)]\n",
    "    #memory to know how many task in queue for each server\n",
    "    memory= [0]*N\n",
    "    system_time=[]\n",
    "    overhead=0\n",
    "\n",
    "    for time, serviceT in zip(task_arrival, service_times):\n",
    "\n",
    "        #check if at current time there are task that are done,\n",
    "        #if they are done, delete them from the queue\n",
    "        for i in range(len(server)):\n",
    "            if server[i]:\n",
    "                #if its elaboration time is passed..\n",
    "                if server[i][0][0]<time:\n",
    "                    #how much time this task was in the system?\n",
    "                    in_sys=abs(server[i][0][1]-server[i][0][0])\n",
    "                    system_time.append(in_sys)\n",
    "                    #delete it from the queue\n",
    "                    server[i].popleft()\n",
    "                    #if there is another task in the queue, update the time it \n",
    "                    #will be over, by adding the time it was in queue waiting\n",
    "                    memory[i]-=1\n",
    "                    if server[i]:\n",
    "                        server[i][0][0]+=in_sys\n",
    "\n",
    "        #POD, select 3 servers and check how many task in queue\n",
    "        for i in range(d):\n",
    "            #choise random server\n",
    "            rnd_server=np.random.choice(list(range(N)))  \n",
    "            #save to memory the len of the queue of the chosen server\n",
    "            memory[rnd_server]=len(server[rnd_server]) \n",
    "            overhead+=2\n",
    "\n",
    "        #save minimun length queue value\n",
    "        min_value = min(memory)\n",
    "        #save the index(es) of the server(s) with minimum length queue\n",
    "        to_choose=[i for i, x in enumerate(memory) if x == min_value]\n",
    "        #select randomly over servers with queue with min len over the d sever extracted\n",
    "        selected_server=np.random.choice(to_choose)\n",
    "\n",
    "        #update server, with new task saved as with time T the task will be over (current time+service time)\n",
    "        #and time it entered the queue\n",
    "        server[selected_server].append([serviceT+time,time])\n",
    "        #update memory\n",
    "        memory[selected_server]+=1\n",
    "\n",
    "    return np.mean(system_time) , overhead/len(task_arrival)"
   ]
  },
  {
   "cell_type": "markdown",
   "metadata": {},
   "source": [
    "## JBT-d"
   ]
  },
  {
   "cell_type": "code",
   "execution_count": 3,
   "metadata": {},
   "outputs": [],
   "source": [
    "def JBTd(task_arrival, service_times, N=20, d=3, T=1):\n",
    "    server= [deque() for i in range(N)]\n",
    "    memory= [0]*N\n",
    "    thousand=1\n",
    "    system_time=[]\n",
    "    overhead=0\n",
    "\n",
    "    for time, serviceT in zip(task_arrival, service_times):\n",
    "\n",
    "        for i in range(len(server)):\n",
    "            if server[i]:\n",
    "                if server[i][0][0]<time:\n",
    "                    #how much time this task was in the system\n",
    "                    in_sys=abs(server[i][0][1]-server[i][0][0])\n",
    "                    server[i].popleft()\n",
    "                    memory[i]-=1\n",
    "                    system_time.append(in_sys)\n",
    "                    if server[i]:\n",
    "                        server[i][0][0]+=in_sys\n",
    "\n",
    "        #check if 1000 time units passed\n",
    "        if time/1000>thousand:\n",
    "            #update threshold\n",
    "            new_T=[]\n",
    "            for i in range(d):\n",
    "                #choose random server\n",
    "                rnd_server=np.random.choice(list(range(N)))  \n",
    "                #save to possible new threshold the len of queue of selected server\n",
    "                new_T.append(len(server[rnd_server]))\n",
    "            #save minimun length queue value as new T\n",
    "            T = min(new_T)\n",
    "            thousand+=1\n",
    "\n",
    "        #select a random server over the ones with queue<T\n",
    "        to_choose=[i for i in range(len(memory)) if memory[i]<=T]\n",
    "        overhead+=len(to_choose)\n",
    "\n",
    "        if to_choose:\n",
    "            selected_server=np.random.choice(to_choose)\n",
    "        else:\n",
    "            selected_server=np.random.choice(list(range(N)))\n",
    "\n",
    "        #update server, with new task saved as with time T the task will be over (current time+service time)\n",
    "        server[selected_server].append([serviceT+time,time])\n",
    "        memory[selected_server]+=1\n",
    "\n",
    "    return np.mean(system_time) , overhead/len(task_arrival)"
   ]
  },
  {
   "cell_type": "markdown",
   "metadata": {},
   "source": [
    "## JSQ"
   ]
  },
  {
   "cell_type": "code",
   "execution_count": 4,
   "metadata": {},
   "outputs": [],
   "source": [
    "def JSQ(task_arrival, service_times, N=20):\n",
    "#     N=20\n",
    "    server= [deque() for i in range(N)]\n",
    "    memory= [0]*N\n",
    "    system_time=[]\n",
    "    overhead=0\n",
    "\n",
    "    for time, serviceT in zip(task_arrival, service_times):\n",
    "\n",
    "        for i in range(len(server)):\n",
    "            if server[i]:\n",
    "                if server[i][0][0]<time:\n",
    "                    in_sys=abs(server[i][0][1]-server[i][0][0])\n",
    "                    server[i].popleft()\n",
    "                    system_time.append(in_sys)\n",
    "                    if server[i]:\n",
    "                        server[i][0][0]+=in_sys\n",
    "\n",
    "        for i in range(N): \n",
    "            #save to memory the len of the queue of the chosen server\n",
    "            memory[i]=len(server[i]) \n",
    "            overhead+=2\n",
    "\n",
    "        #save minimun length queue value\n",
    "        min_value = min(memory)\n",
    "        #save the index(es) of the server(s) with minimum length queue\n",
    "        to_choose=[i for i, x in enumerate(memory) if x == min_value]\n",
    "        #select randomly over servers with queue with min len over the d sever extracted\n",
    "        selected_server=np.random.choice(to_choose)\n",
    "\n",
    "        server[selected_server].append([serviceT+time,time])\n",
    "        memory[selected_server]+=1\n",
    "        \n",
    "    return np.mean(system_time), overhead/len(service_times)"
   ]
  },
  {
   "cell_type": "markdown",
   "metadata": {},
   "source": [
    "# Generate arrivals and processing time and simulate over them"
   ]
  },
  {
   "cell_type": "code",
   "execution_count": 5,
   "metadata": {},
   "outputs": [],
   "source": [
    "def inter_arrival_time(T_0, q, Y_mean):\n",
    "    R_1 = random.random()\n",
    "    if R_1 < q:\n",
    "        return T_0\n",
    "    else:\n",
    "        R_2 = random.random()\n",
    "        return T_0 - int(Y_mean*np.log(R_2))"
   ]
  },
  {
   "cell_type": "code",
   "execution_count": 6,
   "metadata": {},
   "outputs": [
    {
     "data": {
      "text/plain": [
       "\"T0=1 #arrival time    \\nYmed=10 #average Y\\nq=3/5 #prob q\\nET=T0+(1-q)*Ymed  #average time arrival\\nET2=T0**2+(1-q)*(2*Ymed**2+2*T0*Ymed)      #variance of time arrival\\nCT=np.sqrt(ET2-ET**2)/ET\\nalfa=1/2\\nN=20 #servers\\njbtdpoints=[]\\njsqpoints=[]\\npodpoints=[]\\n\\n#generate 100 values of rho from 0.88 to 0.99\\nrhovalues=np.linspace(0.88,0.99,100)\\n#generate the corrispettive betavalues..\\nbetavalues=[i*N*ET/gamma(1+(1/alfa)) for i in rhovalues]\\n#...and find the EX values to assign\\nEXvalues=[i*gamma(1+(1/alfa)) for i in betavalues]\\n\\n\\n\\nfor i in range(len(rhovalues)):\\n    ntry=1000 #task to generate\\n    n=10000\\n    mTv=[]\\n    mXv=[]\\n    rhov=[]\\n\\n    for k in range(ntry):\\n        v=np.round(q-runif(0,1,n))  #random vector\\n        Tv=T0-(1-v)*np.log(runif(0,1,n))*Ymed  #vector of generated arrival times\\n        \\n#         Y=np.random.exponential(Ymed,1)\\n#         Tv=np.random.choice([T0,T0+Y], n, p=[q,1-q])\\n        mT=np.mean(Tv) #its mean\\n        mTv.append(mT)  # save to the vector\\n        EX=EXvalues[i]   #processing time expected value\\n\\n        #weibull distro parameters\\n        beta=EX/gamma(1+1/alfa)\\n        EX2=beta**2*gamma(1+2/alfa)\\n        #generate vector of processing time \\n        Xv=np.maximum(1,np.minimum(100*EX, np.round(beta*(-np.log(runif(0,1,n)))**(1/alfa))))\\n\\n        #compute metrics on the processing times\\n        mX=np.mean(Xv)\\n        mXv.append(mX)\\n\\n        #utilization coeff\\n        #N server\\n        rho=EX/(N*ET)\\n        rhov.append(rho)\\n    \\n    #let's do 5 simulation for each model and save the average mean delay and \\n    jbtdtimes=[]\\n    podtimes=[]\\n    jsqtimes=[]\\n    for k in range(5):\\n        jbtdtimes.append(JBTd(np.cumsum(mTv),mXv))\\n        podtimes.append(POD(np.cumsum(mTv),mXv))\\n        jsqtimes.append(JSQ(np.cumsum(mTv),mXv))\\n    #save average mean delay for this rho    \\n    jbtdpoints.append((np.mean([i[0] for i in jbtdtimes]), np.mean([i[1] for i in jbtdtimes])))\\n    podpoints.append((np.mean([i[0] for i in podtimes]), np.mean([i[1] for i in podtimes])))\\n    jsqpoints.append((np.mean([i[0] for i in jsqtimes]), np.mean([i[1] for i in jsqtimes])))\""
      ]
     },
     "execution_count": 6,
     "metadata": {},
     "output_type": "execute_result"
    }
   ],
   "source": [
    "\"\"\"T0=1 #arrival time    \n",
    "Ymed=10 #average Y\n",
    "q=3/5 #prob q\n",
    "ET=T0+(1-q)*Ymed  #average time arrival\n",
    "ET2=T0**2+(1-q)*(2*Ymed**2+2*T0*Ymed)      #variance of time arrival\n",
    "CT=np.sqrt(ET2-ET**2)/ET\n",
    "alfa=1/2\n",
    "N=20 #servers\n",
    "jbtdpoints=[]\n",
    "jsqpoints=[]\n",
    "podpoints=[]\n",
    "\n",
    "#generate 100 values of rho from 0.88 to 0.99\n",
    "rhovalues=np.linspace(0.88,0.99,100)\n",
    "#generate the corrispettive betavalues..\n",
    "betavalues=[i*N*ET/gamma(1+(1/alfa)) for i in rhovalues]\n",
    "#...and find the EX values to assign\n",
    "EXvalues=[i*gamma(1+(1/alfa)) for i in betavalues]\n",
    "\n",
    "\n",
    "\n",
    "for i in range(len(rhovalues)):\n",
    "    ntry=1000 #task to generate\n",
    "    n=10000\n",
    "    mTv=[]\n",
    "    mXv=[]\n",
    "    rhov=[]\n",
    "\n",
    "    for k in range(ntry):\n",
    "        v=np.round(q-runif(0,1,n))  #random vector\n",
    "        Tv=T0-(1-v)*np.log(runif(0,1,n))*Ymed  #vector of generated arrival times\n",
    "        \n",
    "#         Y=np.random.exponential(Ymed,1)\n",
    "#         Tv=np.random.choice([T0,T0+Y], n, p=[q,1-q])\n",
    "        mT=np.mean(Tv) #its mean\n",
    "        mTv.append(mT)  # save to the vector\n",
    "        EX=EXvalues[i]   #processing time expected value\n",
    "\n",
    "        #weibull distro parameters\n",
    "        beta=EX/gamma(1+1/alfa)\n",
    "        EX2=beta**2*gamma(1+2/alfa)\n",
    "        #generate vector of processing time \n",
    "        Xv=np.maximum(1,np.minimum(100*EX, np.round(beta*(-np.log(runif(0,1,n)))**(1/alfa))))\n",
    "\n",
    "        #compute metrics on the processing times\n",
    "        mX=np.mean(Xv)\n",
    "        mXv.append(mX)\n",
    "\n",
    "        #utilization coeff\n",
    "        #N server\n",
    "        rho=EX/(N*ET)\n",
    "        rhov.append(rho)\n",
    "    \n",
    "    #let's do 5 simulation for each model and save the average mean delay and \n",
    "    jbtdtimes=[]\n",
    "    podtimes=[]\n",
    "    jsqtimes=[]\n",
    "    for k in range(5):\n",
    "        jbtdtimes.append(JBTd(np.cumsum(mTv),mXv))\n",
    "        podtimes.append(POD(np.cumsum(mTv),mXv))\n",
    "        jsqtimes.append(JSQ(np.cumsum(mTv),mXv))\n",
    "    #save average mean delay for this rho    \n",
    "    jbtdpoints.append((np.mean([i[0] for i in jbtdtimes]), np.mean([i[1] for i in jbtdtimes])))\n",
    "    podpoints.append((np.mean([i[0] for i in podtimes]), np.mean([i[1] for i in podtimes])))\n",
    "    jsqpoints.append((np.mean([i[0] for i in jsqtimes]), np.mean([i[1] for i in jsqtimes])))\"\"\""
   ]
  },
  {
   "cell_type": "code",
   "execution_count": 8,
   "metadata": {},
   "outputs": [
    {
     "name": "stdout",
     "output_type": "stream",
     "text": [
      "Execution at 0.0 %\n",
      "Execution at 5.0 %\n",
      "Execution at 10.0 %\n",
      "Execution at 15.0 %\n",
      "Execution at 20.0 %\n",
      "Execution at 25.0 %\n",
      "Execution at 30.0 %\n",
      "Execution at 35.0 %\n",
      "Execution at 40.0 %\n",
      "Execution at 45.0 %\n",
      "Execution at 50.0 %\n",
      "Execution at 55.00000000000001 %\n",
      "Execution at 60.0 %\n",
      "Execution at 65.0 %\n",
      "Execution at 70.0 %\n",
      "Execution at 75.0 %\n",
      "Execution at 80.0 %\n",
      "Execution at 85.0 %\n",
      "Execution at 90.0 %\n",
      "Execution at 95.0 %\n"
     ]
    }
   ],
   "source": [
    "T0=1 #arrival time    \n",
    "Ymed=10 #average Y\n",
    "q=3/5 #prob q\n",
    "ET=T0+(1-q)*Ymed  #average time arrival\n",
    "ET2=T0**2+(1-q)*(2*Ymed**2+2*T0*Ymed)      #variance of time arrival\n",
    "CT=np.sqrt(ET2-ET**2)/ET\n",
    "alfa=1/2\n",
    "N=20 #servers\n",
    "jbtdpoints=[]\n",
    "jsqpoints=[]\n",
    "podpoints=[]\n",
    "\n",
    "#generate 100 values of rho from 0.88 to 0.99\n",
    "rhovalues=np.linspace(0.88,0.99,20)\n",
    "#generate the corrispettive betavalues..\n",
    "betavalues=[i*N*ET/gamma(1+(1/alfa)) for i in rhovalues]\n",
    "#...and find the EX values to assign\n",
    "EXvalues=[i*gamma(1+(1/alfa)) for i in betavalues]\n",
    "\n",
    "\n",
    "\n",
    "for i in range(len(rhovalues)):\n",
    "    jbtdtimes=[]\n",
    "    podtimes=[]\n",
    "    jsqtimes=[]\n",
    "    for j in range(5):\n",
    "        ntry=100000 #task to generate\n",
    "        n=10000\n",
    "        mTv=[]\n",
    "        mXv=[]\n",
    "        rhov=[]\n",
    "\n",
    "        for k in range(ntry):\n",
    "            mTv.append(inter_arrival_time(T0,q,Ymed))\n",
    "            EX=EXvalues[i]   #processing time expected value\n",
    "\n",
    "            #weibull distro parameters\n",
    "            beta=EX/gamma(1+1/alfa)\n",
    "            #generate vector of processing time \n",
    "            Xv=np.maximum(1,np.minimum(100*EX, np.round(beta*(-np.log(runif(0,1,n)))**(1/alfa))))\n",
    "\n",
    "            #compute metrics on the processing times\n",
    "            mX=np.mean(Xv)\n",
    "            mXv.append(mX)\n",
    "\n",
    "            #utilization coeff\n",
    "            #N server\n",
    "            rho=EX/(N*ET)\n",
    "            rhov.append(rho)\n",
    "        \n",
    "        jbtdtimes.append(JBTd(np.cumsum(mTv),mXv))\n",
    "        podtimes.append(POD(np.cumsum(mTv),mXv))\n",
    "        jsqtimes.append(JSQ(np.cumsum(mTv),mXv))\n",
    "        #save average mean delay for this rho    \n",
    "    jbtdpoints.append((np.mean([i[0] for i in jbtdtimes]), np.mean([i[1] for i in jbtdtimes])))\n",
    "    podpoints.append((np.mean([i[0] for i in podtimes]), np.mean([i[1] for i in podtimes])))\n",
    "    jsqpoints.append((np.mean([i[0] for i in jsqtimes]), np.mean([i[1] for i in jsqtimes])))\n",
    "    print(f'Execution at {i/len(rhovalues)*100} %')"
   ]
  },
  {
   "cell_type": "code",
   "execution_count": 9,
   "metadata": {},
   "outputs": [
    {
     "data": {
      "image/png": "[encoded data removed]",
      "text/plain": [
       "<Figure size 720x720 with 1 Axes>"
      ]
     },
     "metadata": {
      "needs_background": "light"
     },
     "output_type": "display_data"
    }
   ],
   "source": [
    "plt.figure(figsize=(10,10))\n",
    "plt.plot(rhovalues,[i[0] for i in jbtdpoints], label='JBT-d')\n",
    "plt.plot(rhovalues, [i[0] for i in podpoints], label='POD')\n",
    "plt.plot(rhovalues, [i[0] for i in jsqpoints], label='JSQ', ls=':')\n",
    "plt.title('Mean time in the system as function of rho')\n",
    "plt.xlabel('rho')\n",
    "plt.legend()\n",
    "plt.ylabel('E[D]')\n",
    "plt.show()"
   ]
  },
  {
   "cell_type": "code",
   "execution_count": 10,
   "metadata": {},
   "outputs": [
    {
     "data": {
      "image/png": "[encoded data removed]",
      "text/plain": [
       "<Figure size 720x720 with 1 Axes>"
      ]
     },
     "metadata": {
      "needs_background": "light"
     },
     "output_type": "display_data"
    }
   ],
   "source": [
    "plt.figure(figsize=(10,10))\n",
    "plt.plot(rhovalues,[i[1] for i in jbtdpoints], label='JBT-d')\n",
    "plt.plot(rhovalues, [i[1] for i in podpoints], label='POD')\n",
    "plt.plot(rhovalues, [i[1] for i in jsqpoints], label='JSQ', ls=':')\n",
    "plt.title('Mean message overhead as function of rho')\n",
    "plt.xlabel('rho')\n",
    "plt.legend()\n",
    "plt.ylabel('Message-per-task arrival')\n",
    "plt.show()"
   ]
  },
  {
   "cell_type": "code",
   "execution_count": null,
   "metadata": {},
   "outputs": [],
   "source": []
  },
  {
   "cell_type": "code",
   "execution_count": null,
   "metadata": {},
   "outputs": [],
   "source": []
  },
  {
   "cell_type": "code",
   "execution_count": null,
   "metadata": {},
   "outputs": [],
   "source": []
  },
  {
   "cell_type": "code",
   "execution_count": null,
   "metadata": {},
   "outputs": [],
   "source": []
  },
  {
   "cell_type": "code",
   "execution_count": null,
   "metadata": {},
   "outputs": [],
   "source": []
  },
  {
   "cell_type": "code",
   "execution_count": null,
   "metadata": {},
   "outputs": [],
   "source": []
  },
  {
   "cell_type": "code",
   "execution_count": null,
   "metadata": {},
   "outputs": [],
   "source": []
  },
  {
   "cell_type": "code",
   "execution_count": null,
   "metadata": {},
   "outputs": [],
   "source": []
  },
  {
   "cell_type": "code",
   "execution_count": null,
   "metadata": {},
   "outputs": [],
   "source": []
  },
  {
   "cell_type": "code",
   "execution_count": null,
   "metadata": {},
   "outputs": [],
   "source": []
  },
  {
   "cell_type": "markdown",
   "metadata": {},
   "source": [
    "# ignore what's below"
   ]
  },
  {
   "cell_type": "markdown",
   "metadata": {},
   "source": [
    "# My function"
   ]
  },
  {
   "cell_type": "code",
   "execution_count": null,
   "metadata": {},
   "outputs": [],
   "source": [
    "\"\"\"def my_LB(task_arrival, service_times, N=20):\n",
    "#     N=20\n",
    "    server= [deque() for i in range(N)]\n",
    "    memory= [0]*N\n",
    "#     task_arrival=np.cumsum(mTv)\n",
    "#     service_times=mXv\n",
    "    system_time=[]\n",
    "    \n",
    "\n",
    "    for time, serviceT in zip(task_arrival, service_times):\n",
    "\n",
    "        for i in range(len(server)):\n",
    "            if server[i]:\n",
    "                if server[i][0][0]<time:\n",
    "                    in_sys=abs(server[i][0][1]-server[i][0][0])\n",
    "                    server[i].popleft()\n",
    "                    system_time.append(in_sys)\n",
    "                    if server[i]:\n",
    "                        server[i][0][0]+=in_sys\n",
    "\n",
    "        for i in range(N): \n",
    "            #save to memory the len of the queue of the chosen server\n",
    "            memory[i]=len(server[i]) \n",
    "\n",
    "        #save minimun length queue value\n",
    "        min_value = min(memory)\n",
    "        #save the index(es) of the server(s) with minimum length queue\n",
    "        to_choose=[i for i, x in enumerate(memory) if x == min_value]\n",
    "        #select randomly over servers with queue with min len over the d sever extracted\n",
    "        selected_server=np.random.choice(to_choose)\n",
    "\n",
    "        server[selected_server].append((serviceT+time,time))\n",
    "        memory[selected_server]+=1\n",
    "        \n",
    "    return np.mean(system_time)\"\"\""
   ]
  }
 ],
 "metadata": {
  "kernelspec": {
   "display_name": "Python 3",
   "language": "python",
   "name": "python3"
  },
  "language_info": {
   "codemirror_mode": {
    "name": "ipython",
    "version": 3
   },
   "file_extension": ".py",
   "mimetype": "text/x-python",
   "name": "python",
   "nbconvert_exporter": "python",
   "pygments_lexer": "ipython3",
   "version": "3.7.4"
  }
 },
 "nbformat": 4,
 "nbformat_minor": 2
}
