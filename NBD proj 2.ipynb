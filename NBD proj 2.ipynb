{
 "cells": [
  {
   "cell_type": "code",
   "execution_count": 1,
   "metadata": {},
   "outputs": [],
   "source": [
    "import numpy as np\n",
    "runif=np.random.uniform\n",
    "from scipy.special import gamma\n",
    "import time as Time\n",
    "from collections import deque\n",
    "import matplotlib.pyplot as plt\n",
    "import random\n",
    "import math"
   ]
  },
  {
   "cell_type": "markdown",
   "metadata": {},
   "source": [
    "# Definition of the function"
   ]
  },
  {
   "cell_type": "markdown",
   "metadata": {},
   "source": [
    "## POD"
   ]
  },
  {
   "cell_type": "code",
   "execution_count": 2,
   "metadata": {},
   "outputs": [],
   "source": [
    "def POD(task_arrival, service_times, N=20, d=3):\n",
    "    #start with empty server\n",
    "    server= [deque() for i in range(N)]\n",
    "    #memory to know how many task in queue for each server\n",
    "    memory= [0]*N\n",
    "    system_time=[]\n",
    "    overhead=0\n",
    "\n",
    "    for time, serviceT in zip(task_arrival, service_times):\n",
    "\n",
    "        #check if at current time there are task that are done,\n",
    "        #if they are done, delete them from the queue\n",
    "        for i in range(len(server)):\n",
    "            if server[i]:\n",
    "                #if its elaboration time is passed..\n",
    "                if server[i][0][0]<time:\n",
    "                    #how much time this task was in the system?\n",
    "                    in_sys=abs(server[i][0][1]-server[i][0][0])\n",
    "                    system_time.append(in_sys)\n",
    "                    #delete it from the queue\n",
    "                    server[i].popleft()\n",
    "                    #if there is another task in the queue, update the time it \n",
    "                    #will be over, by adding the time it was in queue waiting\n",
    "                    memory[i]-=1\n",
    "                    if server[i]:\n",
    "                        server[i][0][0]+=in_sys\n",
    "\n",
    "        #POD, select 3 servers and check how many task in queue\n",
    "        for i in range(d):\n",
    "            #choise random server\n",
    "            rnd_server=np.random.choice(list(range(N)))  \n",
    "            #save to memory the len of the queue of the chosen server\n",
    "            memory[rnd_server]=len(server[rnd_server]) \n",
    "            overhead+=2\n",
    "\n",
    "        #save minimun length queue value\n",
    "        min_value = min(memory)\n",
    "        #save the index(es) of the server(s) with minimum length queue\n",
    "        to_choose=[i for i, x in enumerate(memory) if x == min_value]\n",
    "        #select randomly over servers with queue with min len over the d sever extracted\n",
    "        selected_server=np.random.choice(to_choose)\n",
    "\n",
    "        #update server, with new task saved as with time T the task will be over (current time+service time)\n",
    "        #and time it entered the queue\n",
    "        server[selected_server].append([serviceT+time,time])\n",
    "        #update memory\n",
    "        memory[selected_server]+=1\n",
    "\n",
    "    return np.mean(system_time) , overhead/len(task_arrival)"
   ]
  },
  {
   "cell_type": "markdown",
   "metadata": {},
   "source": [
    "## JBT-d"
   ]
  },
  {
   "cell_type": "code",
   "execution_count": 3,
   "metadata": {},
   "outputs": [],
   "source": [
    "def JBTd(task_arrival, service_times, N=20, d=3, T=1):\n",
    "    server= [deque() for i in range(N)]\n",
    "    memory= [0]*N\n",
    "    thousand=1\n",
    "    system_time=[]\n",
    "    overhead=0\n",
    "\n",
    "    for time, serviceT in zip(task_arrival, service_times):\n",
    "\n",
    "        for i in range(len(server)):\n",
    "            if server[i]:\n",
    "                if server[i][0][0]<time:\n",
    "                    #how much time this task was in the system\n",
    "                    in_sys=abs(server[i][0][1]-server[i][0][0])\n",
    "                    server[i].popleft()\n",
    "                    memory[i]-=1\n",
    "                    system_time.append(in_sys)\n",
    "                    if server[i]:\n",
    "                        server[i][0][0]+=in_sys\n",
    "\n",
    "        #check if 1000 time units passed\n",
    "        if time/1000>thousand:\n",
    "            #update threshold\n",
    "            new_T=[]\n",
    "            for i in range(d):\n",
    "                #choose random server\n",
    "                rnd_server=np.random.choice(list(range(N)))  \n",
    "                #save to possible new threshold the len of queue of selected server\n",
    "                new_T.append(len(server[rnd_server]))\n",
    "            #save minimun length queue value as new T\n",
    "            T = min(new_T)\n",
    "            thousand+=1\n",
    "\n",
    "        #select a random server over the ones with queue<T\n",
    "        to_choose=[i for i in range(len(memory)) if memory[i]<=T]\n",
    "        overhead+=len(to_choose)\n",
    "\n",
    "        if to_choose:\n",
    "            selected_server=np.random.choice(to_choose)\n",
    "        else:\n",
    "            selected_server=np.random.choice(list(range(N)))\n",
    "\n",
    "        #update server, with new task saved as with time T the task will be over (current time+service time)\n",
    "        server[selected_server].append([serviceT+time,time])\n",
    "        memory[selected_server]+=1\n",
    "\n",
    "    return np.mean(system_time) , overhead/len(task_arrival)"
   ]
  },
  {
   "cell_type": "markdown",
   "metadata": {},
   "source": [
    "## JSQ"
   ]
  },
  {
   "cell_type": "code",
   "execution_count": 4,
   "metadata": {},
   "outputs": [],
   "source": [
    "def JSQ(task_arrival, service_times, N=20):\n",
    "    server= [deque() for i in range(N)]\n",
    "    memory= [0]*N\n",
    "    system_time=[]\n",
    "    overhead=0\n",
    "\n",
    "    for time, serviceT in zip(task_arrival, service_times):\n",
    "\n",
    "        for i in range(len(server)):\n",
    "            if server[i]:\n",
    "                if server[i][0][0]<time:\n",
    "                    in_sys=abs(server[i][0][1]-server[i][0][0])\n",
    "                    server[i].popleft()\n",
    "                    system_time.append(in_sys)\n",
    "                    if server[i]:\n",
    "                        server[i][0][0]+=in_sys\n",
    "\n",
    "        for i in range(N): \n",
    "            #save to memory the len of the queue of the chosen server\n",
    "            memory[i]=len(server[i]) \n",
    "            overhead+=2\n",
    "\n",
    "        #save minimun length queue value\n",
    "        min_value = min(memory)\n",
    "        #save the index(es) of the server(s) with minimum length queue\n",
    "        to_choose=[i for i, x in enumerate(memory) if x == min_value]\n",
    "        #select randomly over servers with queue with min len over the d sever extracted\n",
    "        selected_server=np.random.choice(to_choose)\n",
    "\n",
    "        server[selected_server].append([serviceT+time,time])\n",
    "        memory[selected_server]+=1\n",
    "        \n",
    "    return np.mean(system_time), overhead/len(service_times)"
   ]
  },
  {
   "cell_type": "markdown",
   "metadata": {},
   "source": [
    "# Generate arrivals and processing time and simulate over them"
   ]
  },
  {
   "cell_type": "code",
   "execution_count": 5,
   "metadata": {},
   "outputs": [],
   "source": [
    "#generation of arrivals of task \n",
    "def inter_arrival_time(T_0, q, Y_mean):\n",
    "    R_1 = random.random()\n",
    "    if R_1 < q:\n",
    "        return T_0\n",
    "    else:\n",
    "        R_2 = random.random()\n",
    "        return T_0 - int(Y_mean*np.log(R_2))\n",
    "    \n",
    "#compute beta   \n",
    "def find_beta(rho, N, alfa, T0, q, Ymed):\n",
    "    a = 1/(np.exp(1/Ymed)-1) \n",
    "    b = gamma(1+1/alfa)\n",
    "    return (rho*N/b)*(T0 + (1-q)*a)\n",
    "        "
   ]
  },
  {
   "cell_type": "code",
   "execution_count": 6,
   "metadata": {},
   "outputs": [],
   "source": [
    "T0=1 #arrival time    \n",
    "Ymed=10 #average Y\n",
    "q=3/5 #prob q\n",
    "ET=T0+(1-q)*Ymed  #average time arrival\n",
    "alfa=1/2\n",
    "N=20 #servers\n",
    "\n",
    "#generate 100 values of rho from 0.88 to 0.99\n",
    "rhovalues=np.linspace(0.88,0.99,20)\n",
    "#generate the corrispettive betavalues..\n",
    "betavalues=[find_beta(i,N,alfa,T0,q,Ymed) for i in rhovalues]\n",
    "#...and find the EX values to assign\n",
    "EXvalues=[i*gamma(1+(1/alfa)) for i in betavalues]"
   ]
  },
  {
   "cell_type": "code",
   "execution_count": 7,
   "metadata": {},
   "outputs": [
    {
     "name": "stdout",
     "output_type": "stream",
     "text": [
      "Execution at 0.0 %\n",
      "Execution at 5.0 %\n",
      "Execution at 10.0 %\n",
      "Execution at 15.0 %\n",
      "Execution at 20.0 %\n",
      "Execution at 25.0 %\n",
      "Execution at 30.0 %\n",
      "Execution at 35.0 %\n",
      "Execution at 40.0 %\n",
      "Execution at 45.0 %\n",
      "Execution at 50.0 %\n",
      "Execution at 55.00000000000001 %\n",
      "Execution at 60.0 %\n",
      "Execution at 65.0 %\n",
      "Execution at 70.0 %\n",
      "Execution at 75.0 %\n",
      "Execution at 80.0 %\n",
      "Execution at 85.0 %\n",
      "Execution at 90.0 %\n",
      "Execution at 95.0 %\n"
     ]
    }
   ],
   "source": [
    "#start the simulation\n",
    "jbtdpoints=[]\n",
    "jsqpoints=[]\n",
    "podpoints=[]\n",
    "for i in range(len(rhovalues)):\n",
    "    jbtdtimes=[]\n",
    "    podtimes=[]\n",
    "    jsqtimes=[]\n",
    "    for j in range(5):\n",
    "        ntry=100000 #task to generate\n",
    "        mTv=[]\n",
    "        mXv=[]\n",
    "        rhov=[]\n",
    "\n",
    "        for k in range(ntry):\n",
    "            mTv.append(inter_arrival_time(T0,q,Ymed)) #interarrival\n",
    "            EX=EXvalues[i]   #processing time expected value\n",
    "            beta=betavalues[i]\n",
    "            #generate processing time \n",
    "            X=np.maximum(1,np.minimum(100*EX, np.round(beta*(-np.log(runif(0,1)))**(1/alfa))))\n",
    "            mXv.append(X)\n",
    "        \n",
    "        jbtdtimes.append(JBTd(np.cumsum(mTv),mXv))\n",
    "        podtimes.append(POD(np.cumsum(mTv),mXv))\n",
    "        jsqtimes.append(JSQ(np.cumsum(mTv),mXv))\n",
    "        #save average mean delay for this rho    \n",
    "    jbtdpoints.append((np.mean([i[0] for i in jbtdtimes]), np.mean([i[1] for i in jbtdtimes])))\n",
    "    podpoints.append((np.mean([i[0] for i in podtimes]), np.mean([i[1] for i in podtimes])))\n",
    "    jsqpoints.append((np.mean([i[0] for i in jsqtimes]), np.mean([i[1] for i in jsqtimes])))\n",
    "    print(f'Execution at {i/len(rhovalues)*100} %')"
   ]
  },
  {
   "cell_type": "code",
   "execution_count": 8,
   "metadata": {},
   "outputs": [
    {
     "data": {
      "image/png": "[encoded data removed]",
      "text/plain": [
       "<Figure size 720x720 with 1 Axes>"
      ]
     },
     "metadata": {
      "needs_background": "light"
     },
     "output_type": "display_data"
    }
   ],
   "source": [
    "plt.figure(figsize=(10,10))\n",
    "plt.plot(rhovalues,[i[0] for i in jbtdpoints], label='JBT-d')\n",
    "plt.plot(rhovalues, [i[0] for i in podpoints], label='POD')\n",
    "plt.plot(rhovalues, [i[0] for i in jsqpoints], label='JSQ')\n",
    "plt.title('Mean time in the system as function of rho')\n",
    "plt.xlabel('rho')\n",
    "plt.legend()\n",
    "plt.ylabel('E[D]')\n",
    "plt.show()"
   ]
  },
  {
   "cell_type": "code",
   "execution_count": 9,
   "metadata": {},
   "outputs": [
    {
     "data": {
      "image/png": "[encoded data removed]",
      "text/plain": [
       "<Figure size 720x720 with 1 Axes>"
      ]
     },
     "metadata": {
      "needs_background": "light"
     },
     "output_type": "display_data"
    }
   ],
   "source": [
    "plt.figure(figsize=(10,10))\n",
    "plt.plot(rhovalues,[i[1] for i in jbtdpoints], label='JBT-d')\n",
    "plt.plot(rhovalues, [i[1] for i in podpoints], label='POD')\n",
    "plt.plot(rhovalues, [i[1] for i in jsqpoints], label='JSQ', ls=':')\n",
    "plt.title('Mean message overhead as function of rho')\n",
    "plt.xlabel('rho')\n",
    "plt.legend()\n",
    "plt.ylabel('Message-per-task arrival')\n",
    "plt.show()"
   ]
  },
  {
   "cell_type": "markdown",
   "metadata": {},
   "source": [
    "# My algorithm"
   ]
  },
  {
   "cell_type": "code",
   "execution_count": 10,
   "metadata": {},
   "outputs": [],
   "source": [
    "def MyAlg(task_arrival, service_times, N=20):\n",
    "    server= [deque() for i in range(N)]\n",
    "    memory= [0]*N\n",
    "    system_time=[]\n",
    "    overhead=0\n",
    "\n",
    "    for time, serviceT in zip(task_arrival, service_times):\n",
    "        for i in range(len(server)):\n",
    "            if server[i]:\n",
    "                if server[i][0][0]<time:\n",
    "                    in_sys=abs(server[i][0][1]-server[i][0][0])\n",
    "                    server[i].popleft()\n",
    "                    system_time.append(in_sys)\n",
    "                    if server[i]:\n",
    "                        server[i][0][0]+=in_sys\n",
    "\n",
    "        for i in range(N): \n",
    "            memory[i]=len(server[i]) \n",
    "            overhead+=2\n",
    "\n",
    "        #save minimun length queue value\n",
    "        min_value = min(memory)\n",
    "        to_choose=[i for i, x in enumerate(memory) if x == min_value]\n",
    "        #if there are many servers with same min values...\n",
    "        if len(to_choose)>1 and min_value!=0:            \n",
    "            ####possible other solution\n",
    "            #...read the execution times of task in queue...\n",
    "            to_sum=[[server[ser][time][0] for time in range(len(server[ser]))] for ser in to_choose]\n",
    "            #..sum the execution times of all task in the queue\n",
    "            exe_times=[sum(i) for i in to_sum]\n",
    "            #...and select the server that will be free sooner\n",
    "            selected_server=to_choose[exe_times.index(min(exe_times))]\n",
    "            overhead+=len(to_choose)\n",
    "    \n",
    "        else:\n",
    "            #if only a single min len queue server, choose that\n",
    "            selected_server=np.random.choice(to_choose)\n",
    "\n",
    "        server[selected_server].append([serviceT+time,time])\n",
    "        memory[selected_server]+=1\n",
    "        \n",
    "    return np.mean(system_time), overhead/len(service_times)"
   ]
  },
  {
   "cell_type": "code",
   "execution_count": null,
   "metadata": {},
   "outputs": [
    {
     "name": "stdout",
     "output_type": "stream",
     "text": [
      "Execution at 0.0 %\n",
      "Execution at 5.0 %\n",
      "Execution at 10.0 %\n",
      "Execution at 15.0 %\n",
      "Execution at 20.0 %\n",
      "Execution at 25.0 %\n",
      "Execution at 30.0 %\n",
      "Execution at 35.0 %\n",
      "Execution at 40.0 %\n",
      "Execution at 45.0 %\n",
      "Execution at 50.0 %\n",
      "Execution at 55.00000000000001 %\n",
      "Execution at 60.0 %\n",
      "Execution at 65.0 %\n",
      "Execution at 70.0 %\n",
      "Execution at 75.0 %\n",
      "Execution at 80.0 %\n",
      "Execution at 85.0 %\n",
      "Execution at 90.0 %\n"
     ]
    }
   ],
   "source": [
    "mypoints=[]\n",
    "jsqpoints=[]\n",
    "for i in range(len(rhovalues)):\n",
    "    mytimes=[]\n",
    "    jsqtimes=[]\n",
    "    for j in range(5):\n",
    "        ntry=100000 #task to generate\n",
    "        mTv=[]\n",
    "        mXv=[]\n",
    "\n",
    "        for k in range(ntry):\n",
    "            mTv.append(inter_arrival_time(T0,q,Ymed)) \n",
    "            EX=EXvalues[i]   \n",
    "            beta=betavalues[i]\n",
    "            X=np.maximum(1,np.minimum(100*EX, np.round(beta*(-np.log(runif(0,1)))**(1/alfa))))\n",
    "            mXv.append(X)\n",
    "        \n",
    "        mytimes.append(MyAlg(np.cumsum(mTv),mXv))\n",
    "        jsqtimes.append(JSQ(np.cumsum(mTv),mXv))\n",
    " \n",
    "    mypoints.append((np.mean([i[0] for i in mytimes]), np.mean([i[1] for i in mytimes])))\n",
    "    jsqpoints.append((np.mean([i[0] for i in jsqtimes]), np.mean([i[1] for i in jsqtimes])))\n",
    "    print(f'Execution at {i/len(rhovalues)*100} %')"
   ]
  },
  {
   "cell_type": "code",
   "execution_count": null,
   "metadata": {},
   "outputs": [],
   "source": [
    "plt.figure(figsize=(10,10))\n",
    "plt.plot(rhovalues, [i[0] for i in mypoints], label='MyFunc')\n",
    "plt.plot(rhovalues, [i[0] for i in jsqpoints], label='JSQ')\n",
    "plt.title('Mean time in the system as function of rho')\n",
    "plt.xlabel('rho')\n",
    "plt.legend()\n",
    "plt.ylabel('E[D]')\n",
    "plt.show()"
   ]
  },
  {
   "cell_type": "code",
   "execution_count": null,
   "metadata": {},
   "outputs": [],
   "source": [
    "plt.figure(figsize=(10,10))\n",
    "plt.plot(rhovalues, [i[1] for i in mypoints], label='MyFunc')\n",
    "plt.plot(rhovalues, [i[1] for i in jsqpoints], label='JSQ')\n",
    "plt.title('Mean message overhead as function of rho')\n",
    "plt.xlabel('rho')\n",
    "plt.legend()\n",
    "plt.ylabel('Message-per-task arrival')\n",
    "plt.show()"
   ]
  }
 ],
 "metadata": {
  "kernelspec": {
   "display_name": "Python 3",
   "language": "python",
   "name": "python3"
  },
  "language_info": {
   "codemirror_mode": {
    "name": "ipython",
    "version": 3
   },
   "file_extension": ".py",
   "mimetype": "text/x-python",
   "name": "python",
   "nbconvert_exporter": "python",
   "pygments_lexer": "ipython3",
   "version": "3.7.4"
  }
 },
 "nbformat": 4,
 "nbformat_minor": 2
}
