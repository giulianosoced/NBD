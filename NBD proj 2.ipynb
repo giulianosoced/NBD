{
 "cells": [
  {
   "cell_type": "code",
   "execution_count": 1,
   "metadata": {},
   "outputs": [],
   "source": [
    "import numpy as np\n",
    "runif=np.random.uniform\n",
    "from scipy.special import gamma\n",
    "import time\n",
    "from collections import deque"
   ]
  },
  {
   "cell_type": "markdown",
   "metadata": {},
   "source": [
    "# Generate arrivals and process times"
   ]
  },
  {
   "cell_type": "markdown",
   "metadata": {},
   "source": [
    "i copied the professor matlab code into python.\n",
    "\n",
    "\n",
    "This generates the arrivals time and the service times"
   ]
  },
  {
   "cell_type": "code",
   "execution_count": 2,
   "metadata": {},
   "outputs": [],
   "source": [
    "###here i just write in python the matlab script from the prof\n",
    "\n",
    "ntry=1000\n",
    "n=100000\n",
    "mTv=[]\n",
    "ratioTv=[]\n",
    "mXv=[]\n",
    "ratioXv=[]\n",
    "telapsedv=[]\n",
    "rhosimv=[]\n",
    "for i in range(ntry):\n",
    "    #start timer\n",
    "    start=time.time()\n",
    "    \n",
    "    #arrival time\n",
    "    T0=1\n",
    "    #average Y\n",
    "    Ymed=10\n",
    "    #prob q\n",
    "    q=3/5\n",
    "    #average time arrival\n",
    "    ET=T0+(1-q)*Ymed\n",
    "    #variance of time arrival\n",
    "    ET2=T0**2+(1-q)*(2*Ymed**2+2*T0*Ymed)\n",
    "    #\n",
    "    CT=np.sqrt(ET2-ET**2)/ET\n",
    "    #random vector\n",
    "    v=np.round(q-runif(0,1,n))\n",
    "    #vector of generated arrival times\n",
    "    Tv=T0-(1-v)*np.log(runif(0,1,n))*Ymed\n",
    "    #its mean\n",
    "    mT=np.mean(Tv)\n",
    "    #its std\n",
    "    sT=np.std(Tv)\n",
    "    # std over mean\n",
    "    cT = sT/mT\n",
    "    #confidence interval of T\n",
    "    ICT = 1.96*sT/np.sqrt(n)\n",
    "    # compute ratio\n",
    "    ratioT=ICT/mT\n",
    "    # save to the vector\n",
    "    mTv.append(mT)\n",
    "    # save to the vector\n",
    "    ratioTv.append(ratioT)\n",
    "\n",
    "    #processing time expected value\n",
    "    EX=99\n",
    "    #weibull distro parameters\n",
    "    alfa=1/2\n",
    "    beta=EX/gamma(1+1/alfa)\n",
    "    EX2=beta**2*gamma(1+2/alfa)\n",
    "    CX=np.sqrt(EX2-EX**2)/EX\n",
    "    #generate vector of processing time \n",
    "    Xv=np.maximum(1,np.minimum(100*EX, np.round(beta*(-np.log(runif(0,1,n)))**(1/alfa))))\n",
    "    #compute metrics on the processing times\n",
    "    mX=np.mean(Xv)\n",
    "    sX=np.std(Xv)\n",
    "    cX=sX/mX\n",
    "    ICX=1.96*sX/np.sqrt(n)\n",
    "    ratioX=ICX/mX\n",
    "    mXv.append(mX)\n",
    "    ratioXv.append(ratioX)\n",
    "    \n",
    "    #utilization coeff\n",
    "    \n",
    "    #N server\n",
    "    Nse=20\n",
    "    rho=EX/(Nse*ET)\n",
    "    rhosim=mX/Nse/mT\n",
    "    rhosimv.append(rhosim)\n",
    "    \n",
    "    end = time.time()\n",
    "    telapsed= end - start\n",
    "    telapsedv.append(telapsed)\n",
    "    \n",
    "# print(f'estimated average inter arrival time are \\n{mTv}\\n')\n",
    "# print(f'ratio of 95% CI to estimated average of interarrival times are \\n{ratioTv}\\n')\n",
    "# print(f'estimated average service time are \\n{mXv}\\n')\n",
    "# print(f'ratio of 95% CI of estimated average of service time \\n{ratioXv}\\n')\n",
    "# print(f'estimated utilization coefficient \\n{rhosimv}\\n')\n",
    "# print('')\n",
    "# print(f'average computation time {1000*np.mean(telapsedv)} ms')"
   ]
  },
  {
   "cell_type": "markdown",
   "metadata": {},
   "source": [
    "# POD"
   ]
  },
  {
   "cell_type": "markdown",
   "metadata": {},
   "source": [
    "with the generated times i run a POD"
   ]
  },
  {
   "cell_type": "code",
   "execution_count": 23,
   "metadata": {},
   "outputs": [
    {
     "name": "stdout",
     "output_type": "stream",
     "text": [
      "finished at time 10001.529666403494\n"
     ]
    }
   ],
   "source": [
    "#N servers\n",
    "N=20\n",
    "#start with empty server\n",
    "server= [deque() for i in range(N)]\n",
    "#memory to know how many task in queue for each server\n",
    "memory= [0]*N\n",
    "#arrival times of tasks (as cumulative sum of arrival times)\n",
    "task_arrival=np.cumsum(mTv)\n",
    "#service times\n",
    "service_times=mXv\n",
    "#POD parameter\n",
    "d=3\n",
    "\n",
    "for time, serviceT in zip(task_arrival, service_times):\n",
    "    \n",
    "    #check if at time=time there are task that are done,\n",
    "    #if they are done, delete them from the queue\n",
    "    for i in range(len(server)):\n",
    "        try:\n",
    "            if server[i][0]<time:\n",
    "                server[i].popleft()\n",
    "        except:\n",
    "            continue\n",
    "    \n",
    "    #POD, select 3 servers and check how many task in queue\n",
    "    for i in range(d):\n",
    "        #choise random server\n",
    "        rnd_server=np.random.choice(list(range(N)))  \n",
    "        #save to memory the len of the queue of the chosen server\n",
    "        memory[rnd_server]=len(server[rnd_server]) \n",
    "        \n",
    "    #save minimun length queue value\n",
    "    min_value = min(memory)\n",
    "    #save the index(es) of the server(s) with minimum length queue\n",
    "    to_choose=[i for i, x in enumerate(memory) if x == min_value]\n",
    "    #select randomly over servers with queue with min len over the d sever extracted\n",
    "    selected_server=np.random.choice(to_choose)\n",
    "    \n",
    "    #update server, with new task saved as with time T the task will be over (current time+service time)\n",
    "    server[selected_server].append(serviceT+time)\n",
    "    #update memory\n",
    "    memory[selected_server]+=1\n",
    "\n",
    "print(f'finished at time {time}')"
   ]
  },
  {
   "cell_type": "markdown",
   "metadata": {},
   "source": [
    "This is the state of the servers at the end of the simulation.\n",
    "\n",
    "each servers has a queue of task, each task of the queue has the time at which it will be over "
   ]
  },
  {
   "cell_type": "code",
   "execution_count": 4,
   "metadata": {},
   "outputs": [
    {
     "data": {
      "text/plain": [
       "[deque([10100.245286403495]),\n",
       " deque([10059.99415481081]),\n",
       " deque([10081.208126684454]),\n",
       " deque([]),\n",
       " deque([10011.801792820945]),\n",
       " deque([]),\n",
       " deque([10071.308329160802]),\n",
       " deque([]),\n",
       " deque([]),\n",
       " deque([]),\n",
       " deque([]),\n",
       " deque([]),\n",
       " deque([10039.532110919074]),\n",
       " deque([10021.27230687859]),\n",
       " deque([10090.56486772017]),\n",
       " deque([]),\n",
       " deque([10049.853352494276]),\n",
       " deque([]),\n",
       " deque([10029.926021346122]),\n",
       " deque([])]"
      ]
     },
     "execution_count": 4,
     "metadata": {},
     "output_type": "execute_result"
    }
   ],
   "source": [
    "server"
   ]
  },
  {
   "cell_type": "markdown",
   "metadata": {},
   "source": [
    "The memory keeps track of the length of the queues"
   ]
  },
  {
   "cell_type": "code",
   "execution_count": 5,
   "metadata": {},
   "outputs": [
    {
     "data": {
      "text/plain": [
       "[1, 1, 1, 0, 1, 0, 1, 0, 1, 0, 0, 1, 1, 1, 1, 1, 1, 0, 1, 0]"
      ]
     },
     "execution_count": 5,
     "metadata": {},
     "output_type": "execute_result"
    }
   ],
   "source": [
    "memory"
   ]
  },
  {
   "cell_type": "markdown",
   "metadata": {},
   "source": [
    "# JBT-d"
   ]
  },
  {
   "cell_type": "code",
   "execution_count": 27,
   "metadata": {},
   "outputs": [
    {
     "name": "stdout",
     "output_type": "stream",
     "text": [
      "finished at time 10001.529666403494\n"
     ]
    }
   ],
   "source": [
    "#N servers\n",
    "N=20\n",
    "#start with empty server\n",
    "server= [deque() for i in range(N)]\n",
    "#memory to know how many task in queue for each server\n",
    "memory= [0]*N\n",
    "#arrival times of tasks (as cumulative sum of arrival times)\n",
    "task_arrival=np.cumsum(mTv)\n",
    "#service times\n",
    "service_times=mXv\n",
    "#POD parameter\n",
    "d=3\n",
    "T=1\n",
    "thousand=1\n",
    "\n",
    "for time, serviceT in zip(task_arrival, service_times):\n",
    "\n",
    "    for i in range(len(server)):\n",
    "        try:\n",
    "            if server[i][0]<time:\n",
    "                server[i].popleft()\n",
    "                memory[i]-=1\n",
    "        except:\n",
    "            continue\n",
    "            \n",
    "    #check if 1000 time units passed\n",
    "    if time/1000>thousand:\n",
    "        #update threshold\n",
    "        new_T=[]\n",
    "        for i in range(d):\n",
    "            #choise random server\n",
    "            rnd_server=np.random.choice(list(range(N)))  \n",
    "            #save to possible new threshold the len of queue of selected server\n",
    "            new_T.append(len(server[rnd_server]))\n",
    "        #save minimun length queue value as new\n",
    "        min_value = min(new_T)\n",
    "        T=min_value\n",
    "        thousand+=1\n",
    "        \n",
    "    #select a random server over the ones with queue<T\n",
    "    to_choose=[i for i in range(len(memory)) if memory[i]<=T]\n",
    "    \n",
    "    if to_choose:\n",
    "        selected_server=np.random.choice(to_choose)\n",
    "    else:\n",
    "        selected_server=np.random.choice(list(range(N)))\n",
    "             \n",
    "    #update server, with new task saved as with time T the task will be over (current time+service time)\n",
    "    server[selected_server].append(serviceT+time)\n",
    "    memory[selected_server]+=1\n",
    "\n",
    "print(f'finished at time {time}')"
   ]
  },
  {
   "cell_type": "code",
   "execution_count": 28,
   "metadata": {},
   "outputs": [
    {
     "data": {
      "text/plain": [
       "[deque([]),\n",
       " deque([10049.853352494276]),\n",
       " deque([10039.532110919074]),\n",
       " deque([]),\n",
       " deque([]),\n",
       " deque([]),\n",
       " deque([10090.56486772017]),\n",
       " deque([]),\n",
       " deque([10059.99415481081]),\n",
       " deque([10100.245286403495]),\n",
       " deque([10011.801792820945]),\n",
       " deque([10071.308329160802]),\n",
       " deque([10021.27230687859]),\n",
       " deque([]),\n",
       " deque([10081.208126684454]),\n",
       " deque([]),\n",
       " deque([]),\n",
       " deque([]),\n",
       " deque([10029.926021346122]),\n",
       " deque([])]"
      ]
     },
     "execution_count": 28,
     "metadata": {},
     "output_type": "execute_result"
    }
   ],
   "source": [
    "server"
   ]
  },
  {
   "cell_type": "code",
   "execution_count": 29,
   "metadata": {},
   "outputs": [
    {
     "data": {
      "text/plain": [
       "[0, 1, 1, 0, 0, 0, 1, 0, 1, 1, 1, 1, 1, 0, 1, 0, 0, 0, 1, 0]"
      ]
     },
     "execution_count": 29,
     "metadata": {},
     "output_type": "execute_result"
    }
   ],
   "source": [
    "memory"
   ]
  },
  {
   "cell_type": "markdown",
   "metadata": {},
   "source": [
    "# JSQ"
   ]
  },
  {
   "cell_type": "markdown",
   "metadata": {},
   "source": [
    "Just join the shortest line"
   ]
  },
  {
   "cell_type": "code",
   "execution_count": 3,
   "metadata": {},
   "outputs": [
    {
     "name": "stdout",
     "output_type": "stream",
     "text": [
      "finished at time 10000.451383075728\n"
     ]
    }
   ],
   "source": [
    "#N servers\n",
    "N=20\n",
    "#start with empty server\n",
    "server= [deque() for i in range(N)]\n",
    "#memory to know how many task in queue for each server\n",
    "memory= [0]*N\n",
    "#arrival times of tasks (as cumulative sum of arrival times)\n",
    "task_arrival=np.cumsum(mTv)\n",
    "#service times\n",
    "service_times=mXv\n",
    "\n",
    "for time, serviceT in zip(task_arrival, service_times):\n",
    "    \n",
    "    #check if at time=time there are task that are done,\n",
    "    #if they are done, delete them from the queue\n",
    "    for i in range(len(server)):\n",
    "        try:\n",
    "            if server[i][0]<time:\n",
    "                server[i].popleft()\n",
    "        except:\n",
    "            continue\n",
    "    \n",
    "    for i in range(N): \n",
    "        #save to memory the len of the queue of the chosen server\n",
    "        memory[i]=len(server[i]) \n",
    "        \n",
    "    #save minimun length queue value\n",
    "    min_value = min(memory)\n",
    "    #save the index(es) of the server(s) with minimum length queue\n",
    "    to_choose=[i for i, x in enumerate(memory) if x == min_value]\n",
    "    #select randomly over servers with queue with min len over the d sever extracted\n",
    "    selected_server=np.random.choice(to_choose)\n",
    "    \n",
    "    #update server, with new task saved as with time T the task will be over (current time+service time)\n",
    "    server[selected_server].append(serviceT+time)\n",
    "    #update memory\n",
    "    memory[selected_server]+=1\n",
    "\n",
    "print(f'finished at time {time}')"
   ]
  },
  {
   "cell_type": "code",
   "execution_count": 4,
   "metadata": {},
   "outputs": [
    {
     "data": {
      "text/plain": [
       "[0, 0, 1, 1, 0, 1, 1, 1, 1, 1, 0, 1, 0, 0, 0, 0, 1, 0, 0, 1]"
      ]
     },
     "execution_count": 4,
     "metadata": {},
     "output_type": "execute_result"
    }
   ],
   "source": [
    "memory"
   ]
  },
  {
   "cell_type": "code",
   "execution_count": 5,
   "metadata": {},
   "outputs": [
    {
     "data": {
      "text/plain": [
       "[deque([]),\n",
       " deque([]),\n",
       " deque([10089.626086928645]),\n",
       " deque([10009.290412280567]),\n",
       " deque([]),\n",
       " deque([10070.640649911515]),\n",
       " deque([10059.371051643204]),\n",
       " deque([10080.19415713407]),\n",
       " deque([10019.868615194475]),\n",
       " deque([10031.198548039894]),\n",
       " deque([]),\n",
       " deque([10098.111123075727]),\n",
       " deque([]),\n",
       " deque([]),\n",
       " deque([]),\n",
       " deque([]),\n",
       " deque([10039.595181383609]),\n",
       " deque([]),\n",
       " deque([]),\n",
       " deque([10049.241794940277])]"
      ]
     },
     "execution_count": 5,
     "metadata": {},
     "output_type": "execute_result"
    }
   ],
   "source": [
    "server"
   ]
  },
  {
   "cell_type": "code",
   "execution_count": null,
   "metadata": {},
   "outputs": [],
   "source": []
  },
  {
   "cell_type": "code",
   "execution_count": null,
   "metadata": {},
   "outputs": [],
   "source": []
  },
  {
   "cell_type": "code",
   "execution_count": null,
   "metadata": {},
   "outputs": [],
   "source": []
  },
  {
   "cell_type": "code",
   "execution_count": null,
   "metadata": {},
   "outputs": [],
   "source": []
  },
  {
   "cell_type": "code",
   "execution_count": null,
   "metadata": {},
   "outputs": [],
   "source": []
  },
  {
   "cell_type": "code",
   "execution_count": null,
   "metadata": {},
   "outputs": [],
   "source": []
  },
  {
   "cell_type": "code",
   "execution_count": null,
   "metadata": {},
   "outputs": [],
   "source": []
  },
  {
   "cell_type": "code",
   "execution_count": null,
   "metadata": {},
   "outputs": [],
   "source": []
  },
  {
   "cell_type": "code",
   "execution_count": null,
   "metadata": {},
   "outputs": [],
   "source": []
  },
  {
   "cell_type": "code",
   "execution_count": null,
   "metadata": {},
   "outputs": [],
   "source": []
  },
  {
   "cell_type": "markdown",
   "metadata": {},
   "source": [
    "### just notes and garbage, you can ignore this"
   ]
  },
  {
   "cell_type": "code",
   "execution_count": 9,
   "metadata": {},
   "outputs": [
    {
     "data": {
      "text/plain": [
       "\"#this is the function of the pod\\ndef POD(d,N,server):\\n    #i assume that we start not knowing the queue in all server\\n    memory=[0]*N\\n    #here i choose d random servers and save their queue to the memory\\n    for i in range(d):\\n        #choice a server randomly over a list of N\\n        rnd_server=random.choice(list(range(N)))\\n        #save it's queue length to memory\\n        memory[rnd_server]=server[rnd_server]\\n    #save minimun length value\\n    min_value = min(memory)\\n    #save the index of the server with minimum length queue\\n    to_choose=[i for i, x in enumerate(memory) if x == min_value]\\n    #select randomly over server with queue with min len over the d sever extracted\\n    selected_server=random.choice(to_choose)\\n    #update memory, now that the chosen server has 1 more user in queue\\n    memory[selected_server]+=1\\n    return selected_server\""
      ]
     },
     "execution_count": 9,
     "metadata": {},
     "output_type": "execute_result"
    }
   ],
   "source": [
    "\"\"\"#this is the function of the pod\n",
    "def POD(d,N,server):\n",
    "    #i assume that we start not knowing the queue in all server\n",
    "    memory=[0]*N\n",
    "    #here i choose d random servers and save their queue to the memory\n",
    "    for i in range(d):\n",
    "        #choice a server randomly over a list of N\n",
    "        rnd_server=random.choice(list(range(N)))\n",
    "        #save it's queue length to memory\n",
    "        memory[rnd_server]=server[rnd_server]\n",
    "    #save minimun length value\n",
    "    min_value = min(memory)\n",
    "    #save the index of the server with minimum length queue\n",
    "    to_choose=[i for i, x in enumerate(memory) if x == min_value]\n",
    "    #select randomly over server with queue with min len over the d sever extracted\n",
    "    selected_server=random.choice(to_choose)\n",
    "    #update memory, now that the chosen server has 1 more user in queue\n",
    "    memory[selected_server]+=1\n",
    "    return selected_server\"\"\""
   ]
  }
 ],
 "metadata": {
  "kernelspec": {
   "display_name": "Python 3",
   "language": "python",
   "name": "python3"
  },
  "language_info": {
   "codemirror_mode": {
    "name": "ipython",
    "version": 3
   },
   "file_extension": ".py",
   "mimetype": "text/x-python",
   "name": "python",
   "nbconvert_exporter": "python",
   "pygments_lexer": "ipython3",
   "version": "3.7.4"
  }
 },
 "nbformat": 4,
 "nbformat_minor": 2
}
