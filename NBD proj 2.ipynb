{
 "cells": [
  {
   "cell_type": "code",
   "execution_count": 381,
   "metadata": {},
   "outputs": [],
   "source": [
    "import numpy as np\n",
    "runif=np.random.uniform\n",
    "from scipy.special import gamma\n",
    "import time"
   ]
  },
  {
   "cell_type": "code",
   "execution_count": 20,
   "metadata": {},
   "outputs": [],
   "source": [
    "#this is the function of the pod\n",
    "def POD(d,N,server):\n",
    "    #i assume that we start not knowing the queue in all server\n",
    "    memory=[0]*N\n",
    "    #here i choose d random servers and save their queue to the memory\n",
    "    for i in range(d):\n",
    "        #choice a server randomly over a list of N\n",
    "        rnd_server=random.choice(list(range(N)))\n",
    "        #save it's queue length to memory\n",
    "        memory[rnd_server]=server[rnd_server]\n",
    "    #save minimun length value\n",
    "    min_value = min(memory)\n",
    "    #save the index of the server with minimum length queue\n",
    "    to_choose=[i for i, x in enumerate(memory) if x == min_value]\n",
    "    #select randomly over server with queue with min len over the d sever extracted\n",
    "    selected_server=random.choice(to_choose)\n",
    "    #update memory, now that the chosen server has 1 more user in queue\n",
    "    memory[selected_server]+=1\n",
    "    return selected_server"
   ]
  },
  {
   "cell_type": "code",
   "execution_count": 399,
   "metadata": {},
   "outputs": [],
   "source": [
    "###here i just write in python the matlab script from the prof\n",
    "\n",
    "ntry=10\n",
    "n=100000\n",
    "mTv=[]\n",
    "ratioTv=[]\n",
    "mXv=[]\n",
    "ratioXv=[]\n",
    "telapsedv=[]\n",
    "rhosimv=[]\n",
    "for i in range(ntry):\n",
    "    #start timer\n",
    "    start=time.time()\n",
    "    \n",
    "    #arrival time\n",
    "    T0=1\n",
    "    #average Y\n",
    "    Ymed=10\n",
    "    #prob q\n",
    "    q=3/5\n",
    "    #average time arrival\n",
    "    ET=T0+(1-q)*Ymed\n",
    "    #variance of time arrival\n",
    "    ET2=T0**2+(1-q)*(2*Ymed**2+2*T0*Ymed)\n",
    "    #\n",
    "    CT=np.sqrt(ET2-ET**2)/ET\n",
    "    #random vector\n",
    "    v=np.round(q-runif(0,1))\n",
    "    #vector of generated arrival times\n",
    "    Tv=T0-(1-v)*np.log(runif(0,1))*Ymed\n",
    "    #its mean\n",
    "    mT=np.mean(Tv)\n",
    "    #its std\n",
    "    sT=np.std(Tv)\n",
    "    # std over mean\n",
    "    cT = sT/mT\n",
    "    #confidence interval of T\n",
    "    ICT = 1.96*sT/np.sqrt(n)\n",
    "    # compute ratio\n",
    "    ratioT=ICT/mT\n",
    "    # save to the vector\n",
    "    mTv.append(mT)\n",
    "    # save to the vector\n",
    "    ratioTv.append(ratioT)\n",
    "\n",
    "    #service time\n",
    "    EX=99\n",
    "    \n",
    "    alfa=1/2\n",
    "    beta=EX/gamma(1+1/alfa)\n",
    "    EX2=beta**2*gamma(1+2/alfa)\n",
    "    CX=np.sqrt(EX2-EX**2)/EX\n",
    "    Xv=max(1,min(100*EX, np.round(beta*(-np.log(runif(0,1)))**(1/alfa))))\n",
    "    \n",
    "    mX=np.mean(Xv)\n",
    "    sX=np.std(Xv)\n",
    "    cX=sX/mX\n",
    "    ICX=1.96*sX/np.sqrt(n)\n",
    "    ratioX=ICX/mX\n",
    "    mXv.append(mX)\n",
    "    ratioXv.append(ratioX)\n",
    "    \n",
    "    #utilization coeff\n",
    "    Nse=20\n",
    "    rho=EX/Nse/ET\n",
    "    rhosim=mX/Nse/mT\n",
    "    rhosimv.append(rhosim)\n",
    "    \n",
    "    end = time.time()\n",
    "    telapsed= end - start\n",
    "    telapsedv.append(telapsed)"
   ]
  },
  {
   "cell_type": "code",
   "execution_count": 404,
   "metadata": {},
   "outputs": [
    {
     "name": "stdout",
     "output_type": "stream",
     "text": [
      "estimated average inter arrival time are \n",
      "[9.554675149919976, 26.09841248610236, 1.832264775350927, 17.732739142835232, 2.6248272245876016, 14.58080464918084, 5.66341150504676, 5.876479199848503, 1.469985078092592, 1.1795302749419838]\n",
      "ratio of 95% CI to estimated average of interarrival times are \n",
      "[0.0, 0.0, 0.0, 0.0, 0.0, 0.0, 0.0, 0.0, 0.0, 0.0]\n",
      "estimated average service time are \n",
      "[31.0, 123.0, 12.0, 45.0, 66.0, 296.0, 105.0, 1429.0, 16.0, 1.0]\n",
      "ratio of 95% CI of estimated average of service time \n",
      "[0.0, 0.0, 0.0, 0.0, 0.0, 0.0, 0.0, 0.0, 0.0, 0.0]\n",
      "estimated utilization coefficient \n",
      "[0.1622242489335686, 0.23564651693948552, 0.3274635893631062, 0.12688395074649783, 1.2572256067324499, 1.0150331450213534, 0.9270030961588501, 12.158640840903853, 0.5442232114614767, 0.04238975553421831]\n"
     ]
    }
   ],
   "source": [
    "print(f'estimated average inter arrival time are \\n{mTv}')\n",
    "print(f'ratio of 95% CI to estimated average of interarrival times are \\n{ratioTv}')\n",
    "print(f'estimated average service time are \\n{mXv}')\n",
    "print(f'ratio of 95% CI of estimated average of service time \\n{ratioXv}')\n",
    "print(f'estimated utilization coefficient \\n{rhosimv}')"
   ]
  },
  {
   "cell_type": "code",
   "execution_count": 440,
   "metadata": {},
   "outputs": [
    {
     "name": "stdout",
     "output_type": "stream",
     "text": [
      "average computation time 0.0971078872680664 ms\n"
     ]
    }
   ],
   "source": [
    "print(f'average computation time {1000*np.mean(telapsedv)} ms')"
   ]
  },
  {
   "cell_type": "code",
   "execution_count": null,
   "metadata": {},
   "outputs": [],
   "source": []
  },
  {
   "cell_type": "code",
   "execution_count": null,
   "metadata": {},
   "outputs": [],
   "source": []
  },
  {
   "cell_type": "code",
   "execution_count": null,
   "metadata": {},
   "outputs": [],
   "source": []
  },
  {
   "cell_type": "code",
   "execution_count": null,
   "metadata": {},
   "outputs": [],
   "source": []
  },
  {
   "cell_type": "code",
   "execution_count": 375,
   "metadata": {},
   "outputs": [
    {
     "data": {
      "text/plain": [
       "4.468713754400969"
      ]
     },
     "execution_count": 375,
     "metadata": {},
     "output_type": "execute_result"
    }
   ],
   "source": [
    "#just a try, you can ignore this\n",
    "q=3/5\n",
    "\n",
    "#simulate arrivals\n",
    "if runif()<=q:\n",
    "    T=1\n",
    "else:\n",
    "    T=1-(10*np.log(runif()))\n",
    "T\n",
    "\n",
    "#prob of time T0\n",
    "\n",
    "#neg exp\n",
    "Y=np.random.exponential(10)\n",
    "# reproduce T\n",
    "np.random.choice([1,1+Y],p=[q,1-q])"
   ]
  }
 ],
 "metadata": {
  "kernelspec": {
   "display_name": "Python 3",
   "language": "python",
   "name": "python3"
  },
  "language_info": {
   "codemirror_mode": {
    "name": "ipython",
    "version": 3
   },
   "file_extension": ".py",
   "mimetype": "text/x-python",
   "name": "python",
   "nbconvert_exporter": "python",
   "pygments_lexer": "ipython3",
   "version": "3.7.4"
  }
 },
 "nbformat": 4,
 "nbformat_minor": 2
}
