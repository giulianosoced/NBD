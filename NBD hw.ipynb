{
 "cells": [
  {
   "cell_type": "code",
   "execution_count": 5,
   "metadata": {},
   "outputs": [],
   "source": [
    "import numpy as np\n",
    "import time\n",
    "from matplotlib import pyplot as plt\n",
    "from mpl_toolkits.mplot3d import Axes3D\n",
    "from heapq import *\n",
    "import networkx as nx\n",
    "from collections import defaultdict"
   ]
  },
  {
   "cell_type": "markdown",
   "metadata": {},
   "source": [
    "# Question 1"
   ]
  },
  {
   "cell_type": "code",
   "execution_count": 2,
   "metadata": {},
   "outputs": [],
   "source": [
    "##create adj matrix for p-ER graph with K nodes and probabilty p\n",
    "def p_ER(k, p):\n",
    "    mat = np.zeros((k,k))\n",
    "        \n",
    "    for i in range(k):\n",
    "        for j in range(i+1, k):\n",
    "            add = np.random.binomial(1, p, 1)[0]\n",
    "            if(add == 1):\n",
    "                mat[i, j] = 1\n",
    "                mat[j, i] = 1\n",
    "    return mat"
   ]
  },
  {
   "cell_type": "markdown",
   "metadata": {},
   "source": [
    "# Question 2"
   ]
  },
  {
   "cell_type": "code",
   "execution_count": 86,
   "metadata": {},
   "outputs": [],
   "source": [
    "#compute connectivity using irreducibility\n",
    "#we need to check that from the adj matrix A is true that\n",
    "#I + A + A^2 + ... + A^n-1 >0\n",
    "\n",
    "def is_irreducible(A):\n",
    "    n = len(A)\n",
    "    I = np.identity(n)\n",
    "    Sum = I #start the sum with I\n",
    "    A_new=A.copy()\n",
    "    \n",
    "    for i in range(1,n): \n",
    "        Sum += A_new #we ad A to the sum...\n",
    "        A_new = np.inner(A_new, A) #...and update it\n",
    "        \n",
    "    if( np.min(Sum) > 0 ): # check if there are some 0s in the Sum matrix\n",
    "        return ('Graph connected')\n",
    "    else:\n",
    "        return ('Graph not connected')"
   ]
  },
  {
   "cell_type": "code",
   "execution_count": 104,
   "metadata": {},
   "outputs": [],
   "source": [
    "#compute connectivity using laplacian method\n",
    "#we pass the graph in input as a adj matrix A\n",
    "\n",
    "def L_method(A):\n",
    "    #we need to compute the laplacian matrix as L=D-A\n",
    "    #where D is a diagonal matrix having the sum of rows of A\n",
    "    D = np.diag(sum(A)) \n",
    "    L = D - A\n",
    "    \n",
    "    print(np.sort(np.linalg.eigvals(L)))\n",
    "    ###WARNING!! IDK WHY IT WORKS ONLY USING SECOND SMALLEST EIGVAL\n",
    "    if( np.sort(np.linalg.eigvals(L))[0] > 0): #check if eigenvalues are non negative\n",
    "        return ('Graph connected')\n",
    "    else:\n",
    "        return ('Graph not connected')"
   ]
  }
 ],
 "metadata": {
  "kernelspec": {
   "display_name": "Python 3",
   "language": "python",
   "name": "python3"
  },
  "language_info": {
   "codemirror_mode": {
    "name": "ipython",
    "version": 3
   },
   "file_extension": ".py",
   "mimetype": "text/x-python",
   "name": "python",
   "nbconvert_exporter": "python",
   "pygments_lexer": "ipython3",
   "version": "3.7.4"
  }
 },
 "nbformat": 4,
 "nbformat_minor": 2
}
